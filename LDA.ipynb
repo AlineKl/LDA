{
 "cells": [
  {
   "cell_type": "code",
   "execution_count": 47,
   "metadata": {},
   "outputs": [],
   "source": [
    "import pandas as pd\n",
    "import os\n",
    "from sklearn import datasets\n",
    "import numpy as np"
   ]
  },
  {
   "cell_type": "code",
   "execution_count": 48,
   "metadata": {},
   "outputs": [],
   "source": [
    "def print_top_words(model, feature_names, n_top_words):\n",
    "    for topic_idx, topic in enumerate(model.components_):\n",
    "        print(\"Topic {}:\".format(topic_idx))\n",
    "        print(\" \".join([feature_names[i] for i in topic.argsort()[:-n_top_words-1:-1]]))"
   ]
  },
  {
   "cell_type": "code",
   "execution_count": 79,
   "metadata": {},
   "outputs": [],
   "source": [
    "from sklearn.metrics.pairwise import cosine_distances\n",
    "\n",
    "def score_model(model, data_vectorized):\n",
    "    doc_topic_distr = model.transform(data_vectorized)\n",
    "    distances = cosine_distances(doc_topic_distr)\n",
    "    np.fill_diagonal(distances, np.inf)\n",
    "    idx = np.argpartition(distances, 99)[:100, :] # indexes of the 100 closest docs \n",
    "    score = np.mean(newsgroups.target[idx] == newsgroups.target[None, :])\n",
    "    return score"
   ]
  },
  {
   "cell_type": "code",
   "execution_count": 50,
   "metadata": {},
   "outputs": [],
   "source": [
    "cats = ['rec.autos', 'rec.motorcycles',\n",
    "        'sci.crypt', 'sci.electronics', \n",
    "        'sci.med', 'sci.space',\n",
    "        'talk.politics.guns', 'talk.religion.misc',\n",
    "        'rec.sport.baseball', 'rec.sport.hockey']\n",
    "\n",
    "newsgroups = datasets.fetch_20newsgroups(subset = \"all\", categories=cats)"
   ]
  },
  {
   "cell_type": "code",
   "execution_count": 51,
   "metadata": {},
   "outputs": [],
   "source": [
    "documents = newsgroups.data"
   ]
  },
  {
   "cell_type": "code",
   "execution_count": 52,
   "metadata": {},
   "outputs": [],
   "source": [
    "# https://www.machinelearningplus.com/nlp/topic-modeling-python-sklearn-examples/\n",
    "import re\n",
    "documents = [re.sub('\\S*@\\S*\\s?', '', doc) for doc in documents] # Remove emails\n",
    "documents = [re.sub('\\s+', ' ', doc) for doc in documents] # Remove newlines\n",
    "documents = [re.sub(\"\\'\", \"\", doc) for doc in documents] # Remove single-quotes"
   ]
  },
  {
   "cell_type": "code",
   "execution_count": 53,
   "metadata": {},
   "outputs": [],
   "source": [
    "import gensim\n",
    "def sent_to_words(sentences):\n",
    "    for sentence in sentences:\n",
    "        yield(gensim.utils.simple_preprocess(str(sentence), deacc=True))  # deacc=True removes punctuations\n",
    "\n",
    "data_words = list(sent_to_words(documents))"
   ]
  },
  {
   "cell_type": "code",
   "execution_count": 54,
   "metadata": {},
   "outputs": [],
   "source": [
    "import spacy\n",
    "def lemmatization(texts, allowed_postags=['NOUN', 'ADJ', 'VERB', 'ADV']):\n",
    "    \"\"\"https://spacy.io/api/annotation\"\"\"\n",
    "    texts_out = []\n",
    "    for sent in texts:\n",
    "        doc = nlp(\" \".join(sent)) \n",
    "        texts_out.append(\" \".join([token.lemma_ if token.lemma_ not in ['-PRON-'] else '' for token in doc if token.pos_ in allowed_postags]))\n",
    "    return texts_out\n",
    "\n",
    "# Initialize spacy 'en' model, keeping only tagger component (for efficiency)\n",
    "# Run in terminal: python3 -m spacy download en\n",
    "nlp = spacy.load('en', disable=['parser', 'ner'])\n",
    "\n",
    "# Do lemmatization keeping only Noun, Adj, Verb, Adverb\n",
    "data_lemmatized = lemmatization(data_words, allowed_postags=['NOUN', 'ADJ', 'VERB', 'ADV'])"
   ]
  },
  {
   "cell_type": "code",
   "execution_count": 63,
   "metadata": {},
   "outputs": [],
   "source": [
    "from sklearn.feature_extraction.text import CountVectorizer\n",
    "vectorizer = CountVectorizer(min_df=10, lowercase=True, token_pattern='[a-zA-Z0-9]{3,}',  # num chars > 3)\n",
    "                             stop_words='english')\n",
    "data_vectorized = vectorizer.fit_transform(data_lemmatized)"
   ]
  },
  {
   "cell_type": "code",
   "execution_count": 83,
   "metadata": {},
   "outputs": [],
   "source": [
    "from sklearn.decomposition import LatentDirichletAllocation\n",
    "lda = LatentDirichletAllocation(n_components=len(cats), random_state=10, \n",
    "                                n_jobs=-1, learning_method='online',\n",
    "                                batch_size=128, evaluate_every = -1,\n",
    "                                doc_topic_prior=.1, topic_word_prior=.01).fit(data_vectorized)"
   ]
  },
  {
   "cell_type": "code",
   "execution_count": 84,
   "metadata": {},
   "outputs": [
    {
     "data": {
      "text/plain": [
       "0.5526042876755729"
      ]
     },
     "execution_count": 84,
     "metadata": {},
     "output_type": "execute_result"
    }
   ],
   "source": [
    "score_model(lda, data_vectorized)"
   ]
  },
  {
   "cell_type": "code",
   "execution_count": 85,
   "metadata": {},
   "outputs": [
    {
     "name": "stdout",
     "output_type": "stream",
     "text": [
      "Topic 0:\n",
      "year science space base program work make cost good launch\n",
      "Topic 1:\n",
      "gun state law right weapon people government use firearm control\n",
      "Topic 2:\n",
      "key use chip encryption clipper government public security information message\n",
      "Topic 3:\n",
      "space earth mission orbit organization subject line sun satellite post\n",
      "Topic 4:\n",
      "bike organization line subject write dod post article host nntp\n",
      "Topic 5:\n",
      "medical patient disease health use doctor cancer drug test service\n",
      "Topic 6:\n",
      "say god people write know subject article make christian good\n",
      "Topic 7:\n",
      "line subject organization car use write post article host good\n",
      "Topic 8:\n",
      "write article just line subject say think organization people know\n",
      "Topic 9:\n",
      "game team line play subject organization good win player year\n"
     ]
    }
   ],
   "source": [
    "print_top_words(lda, vectorizer.get_feature_names(), 10)"
   ]
  },
  {
   "cell_type": "code",
   "execution_count": 59,
   "metadata": {},
   "outputs": [
    {
     "name": "stderr",
     "output_type": "stream",
     "text": [
      "C:\\ProgramData\\Anaconda3\\lib\\site-packages\\sklearn\\model_selection\\_split.py:2053: FutureWarning: You should specify a value for 'cv' instead of relying on the default value. The default value will change from 3 to 5 in version 0.22.\n",
      "  warnings.warn(CV_WARNING, FutureWarning)\n"
     ]
    },
    {
     "data": {
      "text/plain": [
       "{'doc_topic_prior': 1, 'topic_word_prior': 0.01}"
      ]
     },
     "execution_count": 59,
     "metadata": {},
     "output_type": "execute_result"
    }
   ],
   "source": [
    "from sklearn.model_selection import GridSearchCV\n",
    "\n",
    "search_params = {'doc_topic_prior': [0.001, 0.1, 0.5, 1], 'topic_word_prior': [.0001, .001, .01, 1]}\n",
    "tuned_model = GridSearchCV(LatentDirichletAllocation(n_components=len(cats), batch_size=128, evaluate_every=-1, \n",
    "                                                     learning_method='online', n_jobs=-1, random_state=10), \n",
    "                                                     param_grid=search_params)\n",
    "tuned_model.fit(data_vectorized)\n",
    "tuned_model.best_params_"
   ]
  },
  {
   "cell_type": "code",
   "execution_count": 60,
   "metadata": {},
   "outputs": [
    {
     "data": {
      "text/plain": [
       "0.4583028830921956"
      ]
     },
     "execution_count": 60,
     "metadata": {},
     "output_type": "execute_result"
    }
   ],
   "source": [
    "score_model(tuned_model, data_vectorized)"
   ]
  },
  {
   "cell_type": "code",
   "execution_count": null,
   "metadata": {},
   "outputs": [],
   "source": []
  }
 ],
 "metadata": {
  "kernelspec": {
   "display_name": "Python 3",
   "language": "python",
   "name": "python3"
  },
  "language_info": {
   "codemirror_mode": {
    "name": "ipython",
    "version": 3
   },
   "file_extension": ".py",
   "mimetype": "text/x-python",
   "name": "python",
   "nbconvert_exporter": "python",
   "pygments_lexer": "ipython3",
   "version": "3.6.5"
  }
 },
 "nbformat": 4,
 "nbformat_minor": 2
}
